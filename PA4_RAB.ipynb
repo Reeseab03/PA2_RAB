{
 "cells": [
  {
   "cell_type": "markdown",
   "id": "a4b1a766",
   "metadata": {},
   "source": [
    "# Assignment 3 Lists and Tuples"
   ]
  },
  {
   "cell_type": "markdown",
   "id": "d0ac1fbc",
   "metadata": {},
   "source": [
    "## Reese Bottorff"
   ]
  },
  {
   "cell_type": "markdown",
   "id": "07b2b12c",
   "metadata": {},
   "source": [
    "### CS 150"
   ]
  },
  {
   "cell_type": "markdown",
   "id": "401195b1",
   "metadata": {},
   "source": [
    "* Append adds elements at the end of a list"
   ]
  },
  {
   "cell_type": "code",
   "execution_count": 1,
   "id": "9319bf33",
   "metadata": {},
   "outputs": [],
   "source": [
    "colors=['blue', 'green', 'pink']\n",
    "colors.append('purple')"
   ]
  },
  {
   "cell_type": "code",
   "execution_count": 2,
   "id": "efd0e55b",
   "metadata": {},
   "outputs": [
    {
     "data": {
      "text/plain": [
       "['blue', 'green', 'pink', 'purple']"
      ]
     },
     "execution_count": 2,
     "metadata": {},
     "output_type": "execute_result"
    }
   ],
   "source": [
    "colors"
   ]
  },
  {
   "cell_type": "markdown",
   "id": "9a399220",
   "metadata": {},
   "source": [
    "* Extend joins two lists together"
   ]
  },
  {
   "cell_type": "code",
   "execution_count": 3,
   "id": "1a44a3d6",
   "metadata": {},
   "outputs": [
    {
     "name": "stdout",
     "output_type": "stream",
     "text": [
      "List after extend: ['rectange', 'octagon', 'circle', 'square', 'triange']\n"
     ]
    }
   ],
   "source": [
    "shapes=['circle', 'square', 'triange']\n",
    "more_shapes=['rectange', 'octagon']\n",
    "more_shapes.extend(shapes)\n",
    "print(\"List after extend:\", more_shapes)"
   ]
  },
  {
   "cell_type": "markdown",
   "id": "19d8c4de",
   "metadata": {},
   "source": [
    "* Insert adds an element to a list after the index"
   ]
  },
  {
   "cell_type": "code",
   "execution_count": 4,
   "id": "67594d70",
   "metadata": {},
   "outputs": [
    {
     "name": "stdout",
     "output_type": "stream",
     "text": [
      "['blue', 'green', 'teal', 'pink', 'purple']\n"
     ]
    }
   ],
   "source": [
    "colors.insert(2, 'teal')\n",
    "print(colors)"
   ]
  },
  {
   "cell_type": "markdown",
   "id": "4590922c",
   "metadata": {},
   "source": [
    "* Remove deletes an element by the entry name"
   ]
  },
  {
   "cell_type": "code",
   "execution_count": 5,
   "id": "8fbffb7d",
   "metadata": {},
   "outputs": [
    {
     "name": "stdout",
     "output_type": "stream",
     "text": [
      "['blue', 'green', 'pink', 'purple']\n"
     ]
    }
   ],
   "source": [
    "colors.remove('teal')\n",
    "print(colors)"
   ]
  },
  {
   "cell_type": "markdown",
   "id": "43b33bc5",
   "metadata": {},
   "source": [
    "* Count shows the number of elements with a specific value"
   ]
  },
  {
   "cell_type": "code",
   "execution_count": 6,
   "id": "dd9f6790",
   "metadata": {},
   "outputs": [
    {
     "data": {
      "text/plain": [
       "1"
      ]
     },
     "execution_count": 6,
     "metadata": {},
     "output_type": "execute_result"
    }
   ],
   "source": [
    "colors.count('purple')"
   ]
  },
  {
   "cell_type": "markdown",
   "id": "6854ed6a",
   "metadata": {},
   "source": [
    "* index returns the index of the specified element in the list"
   ]
  },
  {
   "cell_type": "code",
   "execution_count": 7,
   "id": "0a1b3b39",
   "metadata": {},
   "outputs": [
    {
     "data": {
      "text/plain": [
       "1"
      ]
     },
     "execution_count": 7,
     "metadata": {},
     "output_type": "execute_result"
    }
   ],
   "source": [
    "colors.index('green')"
   ]
  },
  {
   "cell_type": "markdown",
   "id": "b4ebf6f6",
   "metadata": {},
   "source": [
    "* Pop deletes an element by the index"
   ]
  },
  {
   "cell_type": "code",
   "execution_count": 8,
   "id": "67bae20b",
   "metadata": {},
   "outputs": [
    {
     "data": {
      "text/plain": [
       "['blue', 'green', 'pink', 'purple']"
      ]
     },
     "execution_count": 8,
     "metadata": {},
     "output_type": "execute_result"
    }
   ],
   "source": [
    "colors"
   ]
  },
  {
   "cell_type": "code",
   "execution_count": 9,
   "id": "13eee15d",
   "metadata": {},
   "outputs": [
    {
     "data": {
      "text/plain": [
       "['blue', 'green', 'pink']"
      ]
     },
     "execution_count": 9,
     "metadata": {},
     "output_type": "execute_result"
    }
   ],
   "source": [
    "colors.pop(-1)\n",
    "colors"
   ]
  },
  {
   "cell_type": "markdown",
   "id": "3b9818d0",
   "metadata": {},
   "source": [
    "* Sorted temporarily sorts a list"
   ]
  },
  {
   "cell_type": "code",
   "execution_count": 10,
   "id": "b1061824",
   "metadata": {},
   "outputs": [
    {
     "data": {
      "text/plain": [
       "[45, 76, 103, 81, 24, 12]"
      ]
     },
     "execution_count": 10,
     "metadata": {},
     "output_type": "execute_result"
    }
   ],
   "source": [
    "numbers=[45,76,103,81,24,12]\n",
    "numbers"
   ]
  },
  {
   "cell_type": "code",
   "execution_count": 11,
   "id": "67773711",
   "metadata": {},
   "outputs": [
    {
     "data": {
      "text/plain": [
       "[12, 24, 45, 76, 81, 103]"
      ]
     },
     "execution_count": 11,
     "metadata": {},
     "output_type": "execute_result"
    }
   ],
   "source": [
    "sorted(numbers)"
   ]
  },
  {
   "cell_type": "markdown",
   "id": "845c3b51",
   "metadata": {},
   "source": [
    "* Copy copies a list"
   ]
  },
  {
   "cell_type": "code",
   "execution_count": 12,
   "id": "41137d49",
   "metadata": {},
   "outputs": [
    {
     "name": "stdout",
     "output_type": "stream",
     "text": [
      "Copied list: [45, 76, 103, 81, 24, 12]\n"
     ]
    }
   ],
   "source": [
    "random=numbers.copy()\n",
    "print(\"Copied list:\", random)"
   ]
  },
  {
   "cell_type": "markdown",
   "id": "941d24b4",
   "metadata": {},
   "source": [
    "* Clear clears or deletes the elements from a list"
   ]
  },
  {
   "cell_type": "code",
   "execution_count": 13,
   "id": "df974e33",
   "metadata": {},
   "outputs": [
    {
     "data": {
      "text/plain": [
       "['pizza', 'ice cream', 'poptarts', 'strawberries']"
      ]
     },
     "execution_count": 13,
     "metadata": {},
     "output_type": "execute_result"
    }
   ],
   "source": [
    "food=['pizza', 'ice cream', 'poptarts', 'strawberries']\n",
    "food"
   ]
  },
  {
   "cell_type": "code",
   "execution_count": 14,
   "id": "32a7a80a",
   "metadata": {},
   "outputs": [
    {
     "name": "stdout",
     "output_type": "stream",
     "text": [
      "[]\n"
     ]
    }
   ],
   "source": [
    "food.clear()\n",
    "print(food)"
   ]
  },
  {
   "cell_type": "markdown",
   "id": "9dbf704d",
   "metadata": {},
   "source": [
    "* List makes the element letter by letter"
   ]
  },
  {
   "cell_type": "code",
   "execution_count": 15,
   "id": "c7d0445d",
   "metadata": {},
   "outputs": [],
   "source": [
    "name='Monica'\n",
    "name2=list(name)"
   ]
  },
  {
   "cell_type": "code",
   "execution_count": 16,
   "id": "14af9f94",
   "metadata": {},
   "outputs": [
    {
     "data": {
      "text/plain": [
       "['M', 'o', 'n', 'i', 'c', 'a']"
      ]
     },
     "execution_count": 16,
     "metadata": {},
     "output_type": "execute_result"
    }
   ],
   "source": [
    "name2"
   ]
  },
  {
   "cell_type": "markdown",
   "id": "e0ff0145",
   "metadata": {},
   "source": [
    "* Len shows how many elements are in a list"
   ]
  },
  {
   "cell_type": "code",
   "execution_count": 17,
   "id": "1a9d47a3",
   "metadata": {},
   "outputs": [
    {
     "data": {
      "text/plain": [
       "[45, 76, 103, 81, 24, 12]"
      ]
     },
     "execution_count": 17,
     "metadata": {},
     "output_type": "execute_result"
    }
   ],
   "source": [
    "numbers"
   ]
  },
  {
   "cell_type": "code",
   "execution_count": 18,
   "id": "2f5b5f53",
   "metadata": {},
   "outputs": [
    {
     "data": {
      "text/plain": [
       "6"
      ]
     },
     "execution_count": 18,
     "metadata": {},
     "output_type": "execute_result"
    }
   ],
   "source": [
    "len(numbers)"
   ]
  },
  {
   "cell_type": "markdown",
   "id": "633a23c1",
   "metadata": {},
   "source": [
    "* Max shows the maximum value in the list"
   ]
  },
  {
   "cell_type": "code",
   "execution_count": 19,
   "id": "6d29f070",
   "metadata": {},
   "outputs": [
    {
     "name": "stdout",
     "output_type": "stream",
     "text": [
      "This is the maximum value: 103\n"
     ]
    }
   ],
   "source": [
    "print(\"This is the maximum value:\", max(numbers))"
   ]
  },
  {
   "cell_type": "markdown",
   "id": "35546388",
   "metadata": {},
   "source": [
    "* Min shows the minimum value in a list"
   ]
  },
  {
   "cell_type": "code",
   "execution_count": 20,
   "id": "9f15be48",
   "metadata": {},
   "outputs": [
    {
     "name": "stdout",
     "output_type": "stream",
     "text": [
      "This is the minimu value: 12\n"
     ]
    }
   ],
   "source": [
    "print(\"This is the minimu value:\", min(numbers))"
   ]
  },
  {
   "cell_type": "code",
   "execution_count": null,
   "id": "b01538f1",
   "metadata": {},
   "outputs": [],
   "source": []
  }
 ],
 "metadata": {
  "kernelspec": {
   "display_name": "Python 3 (ipykernel)",
   "language": "python",
   "name": "python3"
  },
  "language_info": {
   "codemirror_mode": {
    "name": "ipython",
    "version": 3
   },
   "file_extension": ".py",
   "mimetype": "text/x-python",
   "name": "python",
   "nbconvert_exporter": "python",
   "pygments_lexer": "ipython3",
   "version": "3.9.13"
  }
 },
 "nbformat": 4,
 "nbformat_minor": 5
}
